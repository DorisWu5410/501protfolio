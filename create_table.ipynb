{
 "cells": [
  {
   "cell_type": "markdown",
   "id": "e9f75e30",
   "metadata": {},
   "source": [
    "# Data gathering "
   ]
  },
  {
   "cell_type": "markdown",
   "id": "4b735699",
   "metadata": {},
   "source": [
    "## Create table in Mysql"
   ]
  },
  {
   "cell_type": "code",
   "execution_count": null,
   "id": "f5a65b7a",
   "metadata": {},
   "outputs": [],
   "source": [
    "import urllib.request\n",
    "\n",
    "baseurl = \"https://s3.amazonaws.com/nyc-tlc/trip+data/\"\n",
    "\n",
    "headers = {'User-Agent': \"Mozilla/5.0 (Macintosh; Intel Mac OS X 10_15_7) AppleWebKit/537.36 (KHTML, like Gecko) Chrome/92.0.4515.159 Safari/537.36\",\n",
    "           'apiKey':'22f0aa365f634230b87894f7d5858fd5'}\n",
    "\n",
    "import pymysql\n",
    "\n",
    "def create_table(cartype,year,m,content):\n",
    "    try:\n",
    "        conn = pymysql.connect(host='database-1.cxfbsu2kqbwm.us-east-1.rds.amazonaws.com',\n",
    "                             user='admin',\n",
    "                             password='######',\n",
    "                             database='DS_portfolio')\n",
    "        cur = conn.cursor()\n",
    "        \n",
    "        # create table\n",
    "        tablename = cartype+ '_' + year +'_'+ m\n",
    "        cur.execute(\"drop table if exists \" + tablename + ';')\n",
    "        colname = str(content).split(\",\")\n",
    "        colname[0] = colname[0].strip(\"b'\")\n",
    "        colname[len(colname)-1]=colname[len(colname)-1].strip(\"\\\\r\\\\n'\")\n",
    "        for i in range(0,len(colname)):\n",
    "            colname[i] = colname[i].strip('\"')\n",
    "        query_create = \"CREATE TABLE \" + tablename +'('+ \" VARCHAR(30),\".join(colname) + \" VARCHAR(30));\"      \n",
    "        cur.execute(query_create)\n",
    "        \n",
    "    except ConnectionError as e:\n",
    "        print(e)\n",
    "\n",
    "\n",
    "def getcolname(car_type, year, m):\n",
    "    url = baseurl + car_type + \"_\" + year + \"-\" + m + \".csv\"\n",
    "    req = urllib.request.Request(url = url , headers = headers)    \n",
    "    response = urllib.request.urlopen(req)\n",
    "\n",
    "    content =response.readline()\n",
    "    create_table(car_type, year,m,content)\n",
    "    return(content)\n",
    "\n",
    "#getcolname('green_tripdata', '2018', '07')\n",
    "#getcolname('yellow_tripdata', '2018', '07')\n",
    "#getcolname('fhv_tripdata', '2018', '07')\n",
    "#getcolname('green_tripdata', '2018', '08')\n",
    "#getcolname('yellow_tripdata', '2018', '08')\n",
    "#getcolname('fhv_tripdata', '2018', '08')"
   ]
  },
  {
   "cell_type": "markdown",
   "id": "bc454d3c",
   "metadata": {},
   "source": [
    "## Import data into Mysql with AWS EC2"
   ]
  }
 ],
 "metadata": {
  "kernelspec": {
   "display_name": "Python 3 (ipykernel)",
   "language": "python",
   "name": "python3"
  },
  "language_info": {
   "codemirror_mode": {
    "name": "ipython",
    "version": 3
   },
   "file_extension": ".py",
   "mimetype": "text/x-python",
   "name": "python",
   "nbconvert_exporter": "python",
   "pygments_lexer": "ipython3",
   "version": "3.8.2"
  }
 },
 "nbformat": 4,
 "nbformat_minor": 5
}
